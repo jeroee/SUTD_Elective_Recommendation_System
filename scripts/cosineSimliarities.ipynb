{
 "cells": [
  {
   "cell_type": "code",
   "execution_count": 1,
   "source": [
    "\"\"\"[summary]\r\n",
    "The script is to compute the cosine simliarities between queries and the document\r\n",
    "The steps are as follows:\r\n",
    "1. read the tf file\r\n",
    "2. obtaint the input query\r\n",
    "3. compute the cosine simliarities between query and each document\r\n",
    "4.sort by the one with highest simliarity with the highest rank\r\n",
    "\r\n",
    "\"\"\""
   ],
   "outputs": [
    {
     "output_type": "execute_result",
     "data": {
      "text/plain": [
       "'[summary]\\nThe script is to compute the cosine simliarities between queries and the document\\nThe steps are as follows:\\n1. read the tf file\\n2. obtaint the input query\\n3. compute the cosine simliarities between query and each document\\n4.sort by the one with highest simliarity with the highest rank\\n\\n'"
      ]
     },
     "metadata": {},
     "execution_count": 1
    }
   ],
   "metadata": {}
  },
  {
   "cell_type": "code",
   "execution_count": 2,
   "source": [
    "def readFile(_filePath):\r\n",
    "    \"\"\"[summary]\r\n",
    "\r\n",
    "    Args:\r\n",
    "        _filePath ([type]): [description]\r\n",
    "    \"\"\"\r\n",
    "    import pandas as pd\r\n",
    "    readFile = pd.read_csv(_filePath,index_col=0)\r\n",
    "    return(readFile)"
   ],
   "outputs": [],
   "metadata": {}
  },
  {
   "cell_type": "code",
   "execution_count": 3,
   "source": [
    "def queryVector(query,corpus):\r\n",
    "    \"\"\"[summary]\r\n",
    "    vectorize query based on corpus\r\n",
    "    \r\n",
    "    Args:\r\n",
    "        query ([list]): [list containing query terms]\r\n",
    "    \"\"\"\r\n",
    "    corpusList = list(corpus.index)\r\n",
    "    ## vector to track the corpusList\r\n",
    "    vector = [0]*len(corpusList)\r\n",
    "    ## format query\\r\\n\",\r\n",
    "    ## import scripts to process queries\\r\\n\"\r\n",
    "    import utils.query_processing\r\n",
    "    ## convert to string if not string\\r\\n\"\r\n",
    "    if type(query) != str:\r\n",
    "        query = ' '.join(query)\r\n",
    "    ## clean the query\r\n",
    "    glove_kv = '../pretrained_corpus/glove_6B_300d.kv'\r\n",
    "    query = utils.query_processing.process_query(query)\r\n",
    "\r\n",
    "    \"still lacking the query expansion\"\r\n",
    "    \"Need  glove_kv and topn to be saved in the repo\"\r\n",
    "    query = utils.query_processing.expand_query(query,glove_kv,3)    \r\n",
    "    \r\n",
    "    ## iterate over query terms\r\n",
    "    for wordOfQuery in query:\r\n",
    "    ## variable to tract the corpus index\r\n",
    "        vectorIndex = 0\r\n",
    "    ## iterate over the all corupus\r\n",
    "        for wordOfCorpus in corpusList:\r\n",
    "            if wordOfQuery ==  wordOfCorpus:\r\n",
    "                vector[vectorIndex] += 1 \r\n",
    "    ## update courpus index\r\n",
    "            vectorIndex += 1               \r\n",
    "    return(vector)"
   ],
   "outputs": [],
   "metadata": {}
  },
  {
   "cell_type": "code",
   "execution_count": 4,
   "source": [
    "def cosineSimilarities(queryVector,docVector):\r\n",
    "    \"    \\\"\\\"\\\"[summary]\\r\\n\"\r\n",
    "    \"    To compute the cosine similarity of the query with a single column/module in corpus\\r\\n\"\r\n",
    "    \"    Args:\\r\\n\"\r\n",
    "    \"        queryVector ([list]): [query]\\r\\n\"\r\n",
    "    \"        docVector ([list]): [description]\\r\\n\"\r\n",
    "    from scipy import spatial\r\n",
    "    distance = 1 - spatial.distance.cosine(queryVector, docVector)\r\n",
    "    return(round(distance,5))"
   ],
   "outputs": [],
   "metadata": {}
  },
  {
   "cell_type": "code",
   "execution_count": 5,
   "source": [
    "def topModulesForEachQuery(_df):\r\n",
    "    \"[summary]\\r\\n\",\r\n",
    "    \"    To obtain the top modules for each of the query\\r\\n\"\r\n",
    "    \"    Args:\\r\\n\"\r\n",
    "    \"        _df ([dataframe]): [description] data with rows of words and columns contain the modules, the cell of the dataframe is the similarity\\r\\n\"\r\n",
    "    overallTopModules = {}\r\n",
    "    for query in _df.columns:\r\n",
    "        singleModule = {}\r\n",
    "        df.sort_values(by = query,ascending = False, inplace = True)\r\n",
    "        ## obtain top 10 modules\r\n",
    "        topModules = df[query][:10]\r\n",
    "        singleModule['topModules'] = list(topModules.index)\r\n",
    "        singleModule['topModulesScore'] = list(topModules)\r\n",
    "        overallTopModules[str(query)] = (singleModule)\r\n",
    "        \r\n",
    "    import pandas as pd\r\n",
    "    overallTopModulesDf = pd.DataFrame(overallTopModules)\r\n",
    "    return(overallTopModulesDf)"
   ],
   "outputs": [],
   "metadata": {}
  },
  {
   "cell_type": "code",
   "execution_count": 6,
   "source": [
    "if __name__ == \"__main__\":\r\n",
    "    import pandas as pd \r\n",
    "    corpus = readFile('../data/course_info_scores/course_info_tf.csv') ## <-- assign the merge corupus here\r\n",
    "    # corpus = readFile('../data/course_info_with_survey_scores/course_info_with_survey_tf.csv') ## <-- assign the merge corupus here\r\n",
    "    \r\n",
    "    ## vaildation set\r\n",
    "    \"\"\"[summary]\r\n",
    "    U can contorl which vaildation set to choose to test the cosine similarity model\r\n",
    "    True : would be for the testingQuery that is self create which ensure a value when computing cosineSimilarities\r\n",
    "    False : obtain the query based on 50% of vaildation dataset which might have all cosine similarities of zero\r\n",
    "    \"\"\"\r\n",
    "    if False:\r\n",
    "        testingQuery1 = ['ability','able','abstract']\r\n",
    "        testingQuery2 = ['abstraction','accommodate','accompanies']\r\n",
    "        testingQuery3 = ['account','accounting','achieve']\r\n",
    "        testingQueryList = [[testingQuery1],[testingQuery2],[testingQuery3]]\r\n",
    "        testingQueryDf = pd.DataFrame.from_records(testingQueryList,columns = ['querySample'])\r\n",
    "        queries = testingQueryDf\r\n",
    "        \r\n",
    "    else:\r\n",
    "        vaildationQueries = readFile('../data/survey/vaildation_sample_query.csv')\r\n",
    "        queries = vaildationQueries\r\n",
    "    \r\n",
    "    \"\"\"[summary]\r\n",
    "    The start of the code where we can convert it to function\r\n",
    "    \"\"\"\r\n",
    "    ## iterate over the vaildationQueries\r\n",
    "    queriesScore = {}\r\n",
    "    for row,query in queries.T.iteritems():\r\n",
    "        print('\\nCurrent computing Query: {}'.format(query['querySample']))\r\n",
    "        singleQueryVector = queryVector(query['querySample'],corpus)\r\n",
    "        print(\"Number of terms in corpus: {}\".format(sum(singleQueryVector)))\r\n",
    "        \r\n",
    "        CosineSimilaritiesScore = []\r\n",
    "        for modules in list(corpus):\r\n",
    "            SimilaritiesScore = cosineSimilarities(singleQueryVector,corpus[modules])\r\n",
    "            CosineSimilaritiesScore.append(SimilaritiesScore)\r\n",
    "            # print(\"Score for Query on {} : {}\".format(modules,SimilaritiesScore))\r\n",
    "        queriesScore[str(query['querySample'])] = CosineSimilaritiesScore\r\n",
    "        \r\n",
    "    ## Convert to dict to df\r\n",
    "    modules = list(corpus)\r\n",
    "    df  = pd.DataFrame.from_dict(queriesScore,orient='index',columns=modules)\r\n",
    "    df = df.T\r\n",
    "    \r\n",
    "    ##obtaining top modules for each query\r\n",
    "    rankedModule = topModulesForEachQuery(df)\r\n",
    "    rankedModule\r\n"
   ],
   "outputs": [
    {
     "output_type": "stream",
     "name": "stdout",
     "text": [
      "\n",
      "Current computing Query: network, term, model, technology, probability\n"
     ]
    },
    {
     "output_type": "stream",
     "name": "stderr",
     "text": [
      "[nltk_data] Downloading package punkt to\n",
      "[nltk_data]     C:\\Users\\User\\AppData\\Roaming\\nltk_data...\n",
      "[nltk_data]   Package punkt is already up-to-date!\n",
      "[nltk_data] Downloading package wordnet to\n",
      "[nltk_data]     C:\\Users\\User\\AppData\\Roaming\\nltk_data...\n",
      "[nltk_data]   Package wordnet is already up-to-date!\n",
      "[nltk_data] Downloading package averaged_perceptron_tagger to\n",
      "[nltk_data]     C:\\Users\\User\\AppData\\Roaming\\nltk_data...\n",
      "[nltk_data]   Package averaged_perceptron_tagger is already up-to-\n",
      "[nltk_data]       date!\n"
     ]
    },
    {
     "output_type": "stream",
     "name": "stdout",
     "text": [
      "Number of terms in corpus: 8\n",
      "\n",
      "Current computing Query: term, different, skill, mongodb, long\n"
     ]
    },
    {
     "output_type": "stream",
     "name": "stderr",
     "text": [
      "C:\\Users\\User\\AppData\\Local\\Programs\\Python\\Python39\\lib\\site-packages\\scipy\\spatial\\distance.py:728: RuntimeWarning: invalid value encountered in double_scalars\n",
      "  dist = 1.0 - uv / np.sqrt(uu * vv)\n"
     ]
    },
    {
     "output_type": "stream",
     "name": "stdout",
     "text": [
      "Number of terms in corpus: 7\n",
      "\n",
      "Current computing Query: logistics, analysis, operation, basic, r\n"
     ]
    },
    {
     "output_type": "stream",
     "name": "stderr",
     "text": [
      "C:\\Users\\User\\AppData\\Local\\Programs\\Python\\Python39\\lib\\site-packages\\scipy\\spatial\\distance.py:728: RuntimeWarning: invalid value encountered in double_scalars\n",
      "  dist = 1.0 - uv / np.sqrt(uu * vv)\n"
     ]
    },
    {
     "output_type": "stream",
     "name": "stdout",
     "text": [
      "Number of terms in corpus: 9\n",
      "\n",
      "Current computing Query: esd, network, evaluate, program, r\n"
     ]
    },
    {
     "output_type": "stream",
     "name": "stderr",
     "text": [
      "C:\\Users\\User\\AppData\\Local\\Programs\\Python\\Python39\\lib\\site-packages\\scipy\\spatial\\distance.py:728: RuntimeWarning: invalid value encountered in double_scalars\n",
      "  dist = 1.0 - uv / np.sqrt(uu * vv)\n"
     ]
    },
    {
     "output_type": "stream",
     "name": "stdout",
     "text": [
      "Number of terms in corpus: 7\n",
      "\n",
      "Current computing Query: operation, basic, evaluation, price, evaluate\n"
     ]
    },
    {
     "output_type": "stream",
     "name": "stderr",
     "text": [
      "C:\\Users\\User\\AppData\\Local\\Programs\\Python\\Python39\\lib\\site-packages\\scipy\\spatial\\distance.py:728: RuntimeWarning: invalid value encountered in double_scalars\n",
      "  dist = 1.0 - uv / np.sqrt(uu * vv)\n"
     ]
    },
    {
     "output_type": "stream",
     "name": "stdout",
     "text": [
      "Number of terms in corpus: 13\n",
      "\n",
      "Current computing Query: infrastructure, metric, pytorch, model, client\n"
     ]
    },
    {
     "output_type": "stream",
     "name": "stderr",
     "text": [
      "C:\\Users\\User\\AppData\\Local\\Programs\\Python\\Python39\\lib\\site-packages\\scipy\\spatial\\distance.py:728: RuntimeWarning: invalid value encountered in double_scalars\n",
      "  dist = 1.0 - uv / np.sqrt(uu * vv)\n"
     ]
    },
    {
     "output_type": "stream",
     "name": "stdout",
     "text": [
      "Number of terms in corpus: 6\n",
      "\n",
      "Current computing Query: approach, logistics, shag, infrastructure, equity\n"
     ]
    },
    {
     "output_type": "stream",
     "name": "stderr",
     "text": [
      "C:\\Users\\User\\AppData\\Local\\Programs\\Python\\Python39\\lib\\site-packages\\scipy\\spatial\\distance.py:728: RuntimeWarning: invalid value encountered in double_scalars\n",
      "  dist = 1.0 - uv / np.sqrt(uu * vv)\n"
     ]
    },
    {
     "output_type": "stream",
     "name": "stdout",
     "text": [
      "Number of terms in corpus: 9\n",
      "\n",
      "Current computing Query: data, sql, different, analytics, model\n"
     ]
    },
    {
     "output_type": "stream",
     "name": "stderr",
     "text": [
      "C:\\Users\\User\\AppData\\Local\\Programs\\Python\\Python39\\lib\\site-packages\\scipy\\spatial\\distance.py:728: RuntimeWarning: invalid value encountered in double_scalars\n",
      "  dist = 1.0 - uv / np.sqrt(uu * vv)\n"
     ]
    },
    {
     "output_type": "stream",
     "name": "stdout",
     "text": [
      "Number of terms in corpus: 9\n",
      "\n",
      "Current computing Query: computational, best, server, certain, ec\n"
     ]
    },
    {
     "output_type": "stream",
     "name": "stderr",
     "text": [
      "C:\\Users\\User\\AppData\\Local\\Programs\\Python\\Python39\\lib\\site-packages\\scipy\\spatial\\distance.py:728: RuntimeWarning: invalid value encountered in double_scalars\n",
      "  dist = 1.0 - uv / np.sqrt(uu * vv)\n"
     ]
    },
    {
     "output_type": "stream",
     "name": "stdout",
     "text": [
      "Number of terms in corpus: 9\n",
      "\n",
      "Current computing Query: sklearn, metric, demand, schedule, fundamental\n"
     ]
    },
    {
     "output_type": "stream",
     "name": "stderr",
     "text": [
      "C:\\Users\\User\\AppData\\Local\\Programs\\Python\\Python39\\lib\\site-packages\\scipy\\spatial\\distance.py:728: RuntimeWarning: invalid value encountered in double_scalars\n",
      "  dist = 1.0 - uv / np.sqrt(uu * vv)\n"
     ]
    },
    {
     "output_type": "stream",
     "name": "stdout",
     "text": [
      "Number of terms in corpus: 7\n",
      "\n",
      "Current computing Query: digitalisation, skill, long, technology, aviation\n"
     ]
    },
    {
     "output_type": "stream",
     "name": "stderr",
     "text": [
      "C:\\Users\\User\\AppData\\Local\\Programs\\Python\\Python39\\lib\\site-packages\\scipy\\spatial\\distance.py:728: RuntimeWarning: invalid value encountered in double_scalars\n",
      "  dist = 1.0 - uv / np.sqrt(uu * vv)\n"
     ]
    },
    {
     "output_type": "stream",
     "name": "stdout",
     "text": [
      "Number of terms in corpus: 8\n",
      "\n",
      "Current computing Query: r, hidden, artificial, schedule, simulate\n"
     ]
    },
    {
     "output_type": "stream",
     "name": "stderr",
     "text": [
      "C:\\Users\\User\\AppData\\Local\\Programs\\Python\\Python39\\lib\\site-packages\\scipy\\spatial\\distance.py:728: RuntimeWarning: invalid value encountered in double_scalars\n",
      "  dist = 1.0 - uv / np.sqrt(uu * vv)\n"
     ]
    },
    {
     "output_type": "stream",
     "name": "stdout",
     "text": [
      "Number of terms in corpus: 5\n",
      "\n",
      "Current computing Query: optimisation, decision, risk, aws, jupyter\n"
     ]
    },
    {
     "output_type": "stream",
     "name": "stderr",
     "text": [
      "C:\\Users\\User\\AppData\\Local\\Programs\\Python\\Python39\\lib\\site-packages\\scipy\\spatial\\distance.py:728: RuntimeWarning: invalid value encountered in double_scalars\n",
      "  dist = 1.0 - uv / np.sqrt(uu * vv)\n"
     ]
    },
    {
     "output_type": "stream",
     "name": "stdout",
     "text": [
      "Number of terms in corpus: 6\n",
      "\n",
      "Current computing Query: decentralizedapp, equity, math, ethereum, technology\n"
     ]
    },
    {
     "output_type": "stream",
     "name": "stderr",
     "text": [
      "C:\\Users\\User\\AppData\\Local\\Programs\\Python\\Python39\\lib\\site-packages\\scipy\\spatial\\distance.py:728: RuntimeWarning: invalid value encountered in double_scalars\n",
      "  dist = 1.0 - uv / np.sqrt(uu * vv)\n"
     ]
    },
    {
     "output_type": "stream",
     "name": "stdout",
     "text": [
      "Number of terms in corpus: 6\n",
      "\n",
      "Current computing Query: financial, value, metric, optimize, analysis\n"
     ]
    },
    {
     "output_type": "stream",
     "name": "stderr",
     "text": [
      "C:\\Users\\User\\AppData\\Local\\Programs\\Python\\Python39\\lib\\site-packages\\scipy\\spatial\\distance.py:728: RuntimeWarning: invalid value encountered in double_scalars\n",
      "  dist = 1.0 - uv / np.sqrt(uu * vv)\n"
     ]
    },
    {
     "output_type": "stream",
     "name": "stdout",
     "text": [
      "Number of terms in corpus: 10\n",
      "\n",
      "Current computing Query: risk, certain, computational, approach, c\n"
     ]
    },
    {
     "output_type": "stream",
     "name": "stderr",
     "text": [
      "C:\\Users\\User\\AppData\\Local\\Programs\\Python\\Python39\\lib\\site-packages\\scipy\\spatial\\distance.py:728: RuntimeWarning: invalid value encountered in double_scalars\n",
      "  dist = 1.0 - uv / np.sqrt(uu * vv)\n"
     ]
    },
    {
     "output_type": "stream",
     "name": "stdout",
     "text": [
      "Number of terms in corpus: 9\n",
      "\n",
      "Current computing Query: markov, supply, hidden, computational, payoff\n"
     ]
    },
    {
     "output_type": "stream",
     "name": "stderr",
     "text": [
      "C:\\Users\\User\\AppData\\Local\\Programs\\Python\\Python39\\lib\\site-packages\\scipy\\spatial\\distance.py:728: RuntimeWarning: invalid value encountered in double_scalars\n",
      "  dist = 1.0 - uv / np.sqrt(uu * vv)\n"
     ]
    },
    {
     "output_type": "stream",
     "name": "stdout",
     "text": [
      "Number of terms in corpus: 8\n",
      "\n",
      "Current computing Query: finance, value, long, average, business\n"
     ]
    },
    {
     "output_type": "stream",
     "name": "stderr",
     "text": [
      "C:\\Users\\User\\AppData\\Local\\Programs\\Python\\Python39\\lib\\site-packages\\scipy\\spatial\\distance.py:728: RuntimeWarning: invalid value encountered in double_scalars\n",
      "  dist = 1.0 - uv / np.sqrt(uu * vv)\n"
     ]
    },
    {
     "output_type": "stream",
     "name": "stdout",
     "text": [
      "Number of terms in corpus: 8\n",
      "\n",
      "Current computing Query: financial, spark, science, focus, search\n"
     ]
    },
    {
     "output_type": "stream",
     "name": "stderr",
     "text": [
      "C:\\Users\\User\\AppData\\Local\\Programs\\Python\\Python39\\lib\\site-packages\\scipy\\spatial\\distance.py:728: RuntimeWarning: invalid value encountered in double_scalars\n",
      "  dist = 1.0 - uv / np.sqrt(uu * vv)\n"
     ]
    },
    {
     "output_type": "stream",
     "name": "stdout",
     "text": [
      "Number of terms in corpus: 7\n",
      "\n",
      "Current computing Query: supply, notebook, fundamental, know, basic\n"
     ]
    },
    {
     "output_type": "stream",
     "name": "stderr",
     "text": [
      "C:\\Users\\User\\AppData\\Local\\Programs\\Python\\Python39\\lib\\site-packages\\scipy\\spatial\\distance.py:728: RuntimeWarning: invalid value encountered in double_scalars\n",
      "  dist = 1.0 - uv / np.sqrt(uu * vv)\n"
     ]
    },
    {
     "output_type": "stream",
     "name": "stdout",
     "text": [
      "Number of terms in corpus: 10\n",
      "\n",
      "Current computing Query: r, linear, ethereum, c, machine\n"
     ]
    },
    {
     "output_type": "stream",
     "name": "stderr",
     "text": [
      "C:\\Users\\User\\AppData\\Local\\Programs\\Python\\Python39\\lib\\site-packages\\scipy\\spatial\\distance.py:728: RuntimeWarning: invalid value encountered in double_scalars\n",
      "  dist = 1.0 - uv / np.sqrt(uu * vv)\n"
     ]
    },
    {
     "output_type": "stream",
     "name": "stdout",
     "text": [
      "Number of terms in corpus: 4\n",
      "\n",
      "Current computing Query: science, future, problem, demand, pytorch\n"
     ]
    },
    {
     "output_type": "stream",
     "name": "stderr",
     "text": [
      "C:\\Users\\User\\AppData\\Local\\Programs\\Python\\Python39\\lib\\site-packages\\scipy\\spatial\\distance.py:728: RuntimeWarning: invalid value encountered in double_scalars\n",
      "  dist = 1.0 - uv / np.sqrt(uu * vv)\n"
     ]
    },
    {
     "output_type": "stream",
     "name": "stdout",
     "text": [
      "Number of terms in corpus: 7\n",
      "\n",
      "Current computing Query: r, ec, kera, opponent, model\n"
     ]
    },
    {
     "output_type": "stream",
     "name": "stderr",
     "text": [
      "C:\\Users\\User\\AppData\\Local\\Programs\\Python\\Python39\\lib\\site-packages\\scipy\\spatial\\distance.py:728: RuntimeWarning: invalid value encountered in double_scalars\n",
      "  dist = 1.0 - uv / np.sqrt(uu * vv)\n"
     ]
    },
    {
     "output_type": "stream",
     "name": "stdout",
     "text": [
      "Number of terms in corpus: 3\n",
      "\n",
      "Current computing Query: markov, descent, algebra, math, research\n"
     ]
    },
    {
     "output_type": "stream",
     "name": "stderr",
     "text": [
      "C:\\Users\\User\\AppData\\Local\\Programs\\Python\\Python39\\lib\\site-packages\\scipy\\spatial\\distance.py:728: RuntimeWarning: invalid value encountered in double_scalars\n",
      "  dist = 1.0 - uv / np.sqrt(uu * vv)\n"
     ]
    },
    {
     "output_type": "stream",
     "name": "stdout",
     "text": [
      "Number of terms in corpus: 7\n",
      "\n",
      "Current computing Query: clojurescript, ai, analysis, background, science\n"
     ]
    },
    {
     "output_type": "stream",
     "name": "stderr",
     "text": [
      "C:\\Users\\User\\AppData\\Local\\Programs\\Python\\Python39\\lib\\site-packages\\scipy\\spatial\\distance.py:728: RuntimeWarning: invalid value encountered in double_scalars\n",
      "  dist = 1.0 - uv / np.sqrt(uu * vv)\n"
     ]
    },
    {
     "output_type": "stream",
     "name": "stdout",
     "text": [
      "Number of terms in corpus: 7\n",
      "\n",
      "Current computing Query: optimisation, opencv, risk, chain, urban\n"
     ]
    },
    {
     "output_type": "stream",
     "name": "stderr",
     "text": [
      "C:\\Users\\User\\AppData\\Local\\Programs\\Python\\Python39\\lib\\site-packages\\scipy\\spatial\\distance.py:728: RuntimeWarning: invalid value encountered in double_scalars\n",
      "  dist = 1.0 - uv / np.sqrt(uu * vv)\n"
     ]
    },
    {
     "output_type": "stream",
     "name": "stdout",
     "text": [
      "Number of terms in corpus: 8\n",
      "\n",
      "Current computing Query: maing, descent, science, clojurescript, knowledge\n"
     ]
    },
    {
     "output_type": "stream",
     "name": "stderr",
     "text": [
      "C:\\Users\\User\\AppData\\Local\\Programs\\Python\\Python39\\lib\\site-packages\\scipy\\spatial\\distance.py:728: RuntimeWarning: invalid value encountered in double_scalars\n",
      "  dist = 1.0 - uv / np.sqrt(uu * vv)\n"
     ]
    },
    {
     "output_type": "stream",
     "name": "stdout",
     "text": [
      "Number of terms in corpus: 4\n",
      "\n",
      "Current computing Query: schedule, gradient, airport, analysis, system\n"
     ]
    },
    {
     "output_type": "stream",
     "name": "stderr",
     "text": [
      "C:\\Users\\User\\AppData\\Local\\Programs\\Python\\Python39\\lib\\site-packages\\scipy\\spatial\\distance.py:728: RuntimeWarning: invalid value encountered in double_scalars\n",
      "  dist = 1.0 - uv / np.sqrt(uu * vv)\n"
     ]
    },
    {
     "output_type": "stream",
     "name": "stdout",
     "text": [
      "Number of terms in corpus: 7\n",
      "\n",
      "Current computing Query: logistics, business, strategy, analytics, math\n"
     ]
    },
    {
     "output_type": "stream",
     "name": "stderr",
     "text": [
      "C:\\Users\\User\\AppData\\Local\\Programs\\Python\\Python39\\lib\\site-packages\\scipy\\spatial\\distance.py:728: RuntimeWarning: invalid value encountered in double_scalars\n",
      "  dist = 1.0 - uv / np.sqrt(uu * vv)\n"
     ]
    },
    {
     "output_type": "stream",
     "name": "stdout",
     "text": [
      "Number of terms in corpus: 8\n",
      "\n",
      "Current computing Query: program, future, kera, ec, concept\n"
     ]
    },
    {
     "output_type": "stream",
     "name": "stderr",
     "text": [
      "C:\\Users\\User\\AppData\\Local\\Programs\\Python\\Python39\\lib\\site-packages\\scipy\\spatial\\distance.py:728: RuntimeWarning: invalid value encountered in double_scalars\n",
      "  dist = 1.0 - uv / np.sqrt(uu * vv)\n"
     ]
    },
    {
     "output_type": "stream",
     "name": "stdout",
     "text": [
      "Number of terms in corpus: 6\n"
     ]
    },
    {
     "output_type": "stream",
     "name": "stderr",
     "text": [
      "C:\\Users\\User\\AppData\\Local\\Programs\\Python\\Python39\\lib\\site-packages\\scipy\\spatial\\distance.py:728: RuntimeWarning: invalid value encountered in double_scalars\n",
      "  dist = 1.0 - uv / np.sqrt(uu * vv)\n"
     ]
    }
   ],
   "metadata": {}
  },
  {
   "cell_type": "code",
   "execution_count": 7,
   "source": [
    "rankedModule"
   ],
   "outputs": [
    {
     "output_type": "execute_result",
     "data": {
      "text/plain": [
       "                     network, term, model, technology, probability  \\\n",
       "topModules       [50.012 Networks, 01.104 Networked Life, 40.31...   \n",
       "topModulesScore  [0.33558, 0.27537, 0.26261, 0.25574, 0.25503, ...   \n",
       "\n",
       "                             term, different, skill, mongodb, long  \\\n",
       "topModules       [40.240 Investment Science, 40.232 Water Resou...   \n",
       "topModulesScore  [0.10359, 0.0927, 0.08893, 0.08321, 0.06656, 0...   \n",
       "\n",
       "                          logistics, analysis, operation, basic, r  \\\n",
       "topModules       [50.038 Computational Data Science, 50.043 Dat...   \n",
       "topModulesScore  [0.31274, 0.18262, 0.15149, 0.14639, 0.12689, ...   \n",
       "\n",
       "                                esd, network, evaluate, program, r  \\\n",
       "topModules       [50.012 Networks, 50.035 Computer Vision, 50.0...   \n",
       "topModulesScore  [0.32287, 0.19019, 0.18865, 0.15822, 0.12388, ...   \n",
       "\n",
       "                     operation, basic, evaluation, price, evaluate  \\\n",
       "topModules       [40.230 Sustainable Engineering, 01.102 Energy...   \n",
       "topModulesScore  [0.1575, 0.1297, 0.11734, 0.09082, 0.08819, 0....   \n",
       "\n",
       "                    infrastructure, metric, pytorch, model, client  \\\n",
       "topModules       [40.319 Statistical and Machine Learning, 40.3...   \n",
       "topModulesScore  [0.22743, 0.22086, 0.20025, 0.19181, 0.18464, ...   \n",
       "\n",
       "                 approach, logistics, shag, infrastructure, equity  \\\n",
       "topModules       [40.242 Derivative Pricing and Risk Management...   \n",
       "topModulesScore  [0.15525, 0.13622, 0.12481, 0.08607, 0.04568, ...   \n",
       "\n",
       "                            data, sql, different, analytics, model  \\\n",
       "topModules       [50.038 Computational Data Science, 50.043 Dat...   \n",
       "topModulesScore  [0.3872, 0.37829, 0.23451, 0.23212, 0.22257, 0...   \n",
       "\n",
       "                          computational, best, server, certain, ec  \\\n",
       "topModules       [50.048 Computational Fabrication, 01.117 Brai...   \n",
       "topModulesScore  [0.18794, 0.11128, 0.10076, 0.06491, 0.06131, ...   \n",
       "\n",
       "                    sklearn, metric, demand, schedule, fundamental  ...  \\\n",
       "topModules       [40.320 Airport Systems Planning and Design, 4...  ...   \n",
       "topModulesScore  [0.18443, 0.14062, 0.08802, 0.08588, 0.08584, ...  ...   \n",
       "\n",
       "                                   r, linear, ethereum, c, machine  \\\n",
       "topModules       [50.007 Machine Learning, 40.319 Statistical a...   \n",
       "topModulesScore  [0.18765, 0.11606, 0.11169, 0.10401, 0.04541, ...   \n",
       "\n",
       "                         science, future, problem, demand, pytorch  \\\n",
       "topModules       [50.021 Artificial Intelligence, 40.302 Advanc...   \n",
       "topModulesScore  [0.24776, 0.20089, 0.15986, 0.12317, 0.1182, 0...   \n",
       "\n",
       "                                      r, ec, kera, opponent, model  \\\n",
       "topModules       [40.319 Statistical and Machine Learning, 40.3...   \n",
       "topModulesScore  [0.32163, 0.31235, 0.2832, 0.27126, 0.257, 0.2...   \n",
       "\n",
       "                          markov, descent, algebra, math, research  \\\n",
       "topModules       [40.305 Advanced Topics in Stochastic Modellin...   \n",
       "topModulesScore  [0.1704, 0.10044, 0.04255, 0.03552, 0.03197, 0...   \n",
       "\n",
       "                  clojurescript, ai, analysis, background, science  \\\n",
       "topModules       [50.038 Computational Data Science, 01.116 AI ...   \n",
       "topModulesScore  [0.33772, 0.31972, 0.17749, 0.12491, 0.10515, ...   \n",
       "\n",
       "                          optimisation, opencv, risk, chain, urban  \\\n",
       "topModules       [40.302 Advanced Topics in Optimisation#, 40.2...   \n",
       "topModulesScore  [0.22549, 0.17282, 0.15646, 0.13007, 0.06587, ...   \n",
       "\n",
       "                 maing, descent, science, clojurescript, knowledge  \\\n",
       "topModules       [50.021 Artificial Intelligence, 50.038 Comput...   \n",
       "topModulesScore  [0.12746, 0.08935, 0.08115, 0.07538, 0.06964, ...   \n",
       "\n",
       "                     schedule, gradient, airport, analysis, system  \\\n",
       "topModules       [50.038 Computational Data Science, 40.321 Air...   \n",
       "topModulesScore  [0.25329, 0.23328, 0.19228, 0.16599, 0.12053, ...   \n",
       "\n",
       "                    logistics, business, strategy, analytics, math  \\\n",
       "topModules       [40.318 Supply Chain Digitalisation and Design...   \n",
       "topModulesScore  [0.19256, 0.1482, 0.06376, 0.05344, 0.03211, 0...   \n",
       "\n",
       "                                program, future, kera, ec, concept  \n",
       "topModules       [50.041 Distributed Systems and Computing, 40....  \n",
       "topModulesScore  [0.12372, 0.11043, 0.10242, 0.07204, 0.06726, ...  \n",
       "\n",
       "[2 rows x 30 columns]"
      ],
      "text/html": [
       "<div>\n",
       "<style scoped>\n",
       "    .dataframe tbody tr th:only-of-type {\n",
       "        vertical-align: middle;\n",
       "    }\n",
       "\n",
       "    .dataframe tbody tr th {\n",
       "        vertical-align: top;\n",
       "    }\n",
       "\n",
       "    .dataframe thead th {\n",
       "        text-align: right;\n",
       "    }\n",
       "</style>\n",
       "<table border=\"1\" class=\"dataframe\">\n",
       "  <thead>\n",
       "    <tr style=\"text-align: right;\">\n",
       "      <th></th>\n",
       "      <th>network, term, model, technology, probability</th>\n",
       "      <th>term, different, skill, mongodb, long</th>\n",
       "      <th>logistics, analysis, operation, basic, r</th>\n",
       "      <th>esd, network, evaluate, program, r</th>\n",
       "      <th>operation, basic, evaluation, price, evaluate</th>\n",
       "      <th>infrastructure, metric, pytorch, model, client</th>\n",
       "      <th>approach, logistics, shag, infrastructure, equity</th>\n",
       "      <th>data, sql, different, analytics, model</th>\n",
       "      <th>computational, best, server, certain, ec</th>\n",
       "      <th>sklearn, metric, demand, schedule, fundamental</th>\n",
       "      <th>...</th>\n",
       "      <th>r, linear, ethereum, c, machine</th>\n",
       "      <th>science, future, problem, demand, pytorch</th>\n",
       "      <th>r, ec, kera, opponent, model</th>\n",
       "      <th>markov, descent, algebra, math, research</th>\n",
       "      <th>clojurescript, ai, analysis, background, science</th>\n",
       "      <th>optimisation, opencv, risk, chain, urban</th>\n",
       "      <th>maing, descent, science, clojurescript, knowledge</th>\n",
       "      <th>schedule, gradient, airport, analysis, system</th>\n",
       "      <th>logistics, business, strategy, analytics, math</th>\n",
       "      <th>program, future, kera, ec, concept</th>\n",
       "    </tr>\n",
       "  </thead>\n",
       "  <tbody>\n",
       "    <tr>\n",
       "      <th>topModules</th>\n",
       "      <td>[50.012 Networks, 01.104 Networked Life, 40.31...</td>\n",
       "      <td>[40.240 Investment Science, 40.232 Water Resou...</td>\n",
       "      <td>[50.038 Computational Data Science, 50.043 Dat...</td>\n",
       "      <td>[50.012 Networks, 50.035 Computer Vision, 50.0...</td>\n",
       "      <td>[40.230 Sustainable Engineering, 01.102 Energy...</td>\n",
       "      <td>[40.319 Statistical and Machine Learning, 40.3...</td>\n",
       "      <td>[40.242 Derivative Pricing and Risk Management...</td>\n",
       "      <td>[50.038 Computational Data Science, 50.043 Dat...</td>\n",
       "      <td>[50.048 Computational Fabrication, 01.117 Brai...</td>\n",
       "      <td>[40.320 Airport Systems Planning and Design, 4...</td>\n",
       "      <td>...</td>\n",
       "      <td>[50.007 Machine Learning, 40.319 Statistical a...</td>\n",
       "      <td>[50.021 Artificial Intelligence, 40.302 Advanc...</td>\n",
       "      <td>[40.319 Statistical and Machine Learning, 40.3...</td>\n",
       "      <td>[40.305 Advanced Topics in Stochastic Modellin...</td>\n",
       "      <td>[50.038 Computational Data Science, 01.116 AI ...</td>\n",
       "      <td>[40.302 Advanced Topics in Optimisation#, 40.2...</td>\n",
       "      <td>[50.021 Artificial Intelligence, 50.038 Comput...</td>\n",
       "      <td>[50.038 Computational Data Science, 40.321 Air...</td>\n",
       "      <td>[40.318 Supply Chain Digitalisation and Design...</td>\n",
       "      <td>[50.041 Distributed Systems and Computing, 40....</td>\n",
       "    </tr>\n",
       "    <tr>\n",
       "      <th>topModulesScore</th>\n",
       "      <td>[0.33558, 0.27537, 0.26261, 0.25574, 0.25503, ...</td>\n",
       "      <td>[0.10359, 0.0927, 0.08893, 0.08321, 0.06656, 0...</td>\n",
       "      <td>[0.31274, 0.18262, 0.15149, 0.14639, 0.12689, ...</td>\n",
       "      <td>[0.32287, 0.19019, 0.18865, 0.15822, 0.12388, ...</td>\n",
       "      <td>[0.1575, 0.1297, 0.11734, 0.09082, 0.08819, 0....</td>\n",
       "      <td>[0.22743, 0.22086, 0.20025, 0.19181, 0.18464, ...</td>\n",
       "      <td>[0.15525, 0.13622, 0.12481, 0.08607, 0.04568, ...</td>\n",
       "      <td>[0.3872, 0.37829, 0.23451, 0.23212, 0.22257, 0...</td>\n",
       "      <td>[0.18794, 0.11128, 0.10076, 0.06491, 0.06131, ...</td>\n",
       "      <td>[0.18443, 0.14062, 0.08802, 0.08588, 0.08584, ...</td>\n",
       "      <td>...</td>\n",
       "      <td>[0.18765, 0.11606, 0.11169, 0.10401, 0.04541, ...</td>\n",
       "      <td>[0.24776, 0.20089, 0.15986, 0.12317, 0.1182, 0...</td>\n",
       "      <td>[0.32163, 0.31235, 0.2832, 0.27126, 0.257, 0.2...</td>\n",
       "      <td>[0.1704, 0.10044, 0.04255, 0.03552, 0.03197, 0...</td>\n",
       "      <td>[0.33772, 0.31972, 0.17749, 0.12491, 0.10515, ...</td>\n",
       "      <td>[0.22549, 0.17282, 0.15646, 0.13007, 0.06587, ...</td>\n",
       "      <td>[0.12746, 0.08935, 0.08115, 0.07538, 0.06964, ...</td>\n",
       "      <td>[0.25329, 0.23328, 0.19228, 0.16599, 0.12053, ...</td>\n",
       "      <td>[0.19256, 0.1482, 0.06376, 0.05344, 0.03211, 0...</td>\n",
       "      <td>[0.12372, 0.11043, 0.10242, 0.07204, 0.06726, ...</td>\n",
       "    </tr>\n",
       "  </tbody>\n",
       "</table>\n",
       "<p>2 rows × 30 columns</p>\n",
       "</div>"
      ]
     },
     "metadata": {},
     "execution_count": 7
    }
   ],
   "metadata": {}
  }
 ],
 "metadata": {
  "orig_nbformat": 4,
  "language_info": {
   "name": "python",
   "version": "3.9.2",
   "mimetype": "text/x-python",
   "codemirror_mode": {
    "name": "ipython",
    "version": 3
   },
   "pygments_lexer": "ipython3",
   "nbconvert_exporter": "python",
   "file_extension": ".py"
  },
  "kernelspec": {
   "name": "python3",
   "display_name": "Python 3.9.2 64-bit"
  },
  "interpreter": {
   "hash": "2647ea34e536f865ab67ff9ddee7fd78773d956cec0cab53c79b32cd10da5d83"
  }
 },
 "nbformat": 4,
 "nbformat_minor": 2
}