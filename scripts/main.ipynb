{
 "cells": [
  {
   "cell_type": "code",
   "execution_count": 1,
   "source": [
    "## MAP and NDCG scripts\r\n",
    "import MAP"
   ],
   "outputs": [
    {
     "output_type": "stream",
     "name": "stderr",
     "text": [
      "[nltk_data] Downloading package punkt to\n",
      "[nltk_data]     C:\\Users\\User\\AppData\\Roaming\\nltk_data...\n",
      "[nltk_data]   Package punkt is already up-to-date!\n",
      "[nltk_data] Downloading package wordnet to\n",
      "[nltk_data]     C:\\Users\\User\\AppData\\Roaming\\nltk_data...\n",
      "[nltk_data]   Package wordnet is already up-to-date!\n",
      "[nltk_data] Downloading package averaged_perceptron_tagger to\n",
      "[nltk_data]     C:\\Users\\User\\AppData\\Roaming\\nltk_data...\n",
      "[nltk_data]   Package averaged_perceptron_tagger is already up-to-\n",
      "[nltk_data]       date!\n",
      "[nltk_data] Downloading package punkt to\n",
      "[nltk_data]     C:\\Users\\User\\AppData\\Roaming\\nltk_data...\n",
      "[nltk_data]   Package punkt is already up-to-date!\n",
      "[nltk_data] Downloading package wordnet to\n",
      "[nltk_data]     C:\\Users\\User\\AppData\\Roaming\\nltk_data...\n",
      "[nltk_data]   Package wordnet is already up-to-date!\n",
      "[nltk_data] Downloading package averaged_perceptron_tagger to\n",
      "[nltk_data]     C:\\Users\\User\\AppData\\Roaming\\nltk_data...\n",
      "[nltk_data]   Package averaged_perceptron_tagger is already up-to-\n",
      "[nltk_data]       date!\n",
      "[nltk_data] Downloading package punkt to\n",
      "[nltk_data]     C:\\Users\\User\\AppData\\Roaming\\nltk_data...\n",
      "[nltk_data]   Package punkt is already up-to-date!\n",
      "[nltk_data] Downloading package wordnet to\n",
      "[nltk_data]     C:\\Users\\User\\AppData\\Roaming\\nltk_data...\n",
      "[nltk_data]   Package wordnet is already up-to-date!\n",
      "[nltk_data] Downloading package averaged_perceptron_tagger to\n",
      "[nltk_data]     C:\\Users\\User\\AppData\\Roaming\\nltk_data...\n",
      "[nltk_data]   Package averaged_perceptron_tagger is already up-to-\n",
      "[nltk_data]       date!\n"
     ]
    }
   ],
   "metadata": {}
  },
  {
   "cell_type": "code",
   "execution_count": null,
   "source": [
    "if __name__ == '__main__':\r\n",
    "    print(\"#\"*200)\r\n",
    "    print('Calculating Mean Average Precision for bm25 without survey data added')\r\n",
    "    query_val = pd.read_csv('../data/survey/vaildation_sample_query.csv', header = 0 , index_col = 0)\r\n",
    "\r\n",
    "    # scores without survey\r\n",
    "    tf = pd.read_csv('../data/course_info_scores/course_info_tf.csv', header=0, index_col=0)\r\n",
    "    tf_norm = pd.read_csv('../data/course_info_scores/course_info_tf_norm.csv', header=0, index_col=0)\r\n",
    "    idf = pd.read_csv('../data/course_info_scores/course_info_idf.csv', header=0, index_col=0)\r\n",
    "    map = get_map(query_val, tf=tf, tf_norm=tf_norm, idf=idf)\r\n",
    "    print(\"Mean Average Precision on validation query (bm25 with no survey): \", map)\r\n",
    "\r\n",
    "    print(\"#\"*200)\r\n",
    "    print('Calculating Mean Average Precision after bm25 trained with relevance feedback')\r\n",
    "    tf_relevance_feedback = pd.read_csv('../data/course_info_with_survey_scores/course_info_with_survey_tf.csv', header=0, index_col=0)\r\n",
    "    tf_norm_relevance_feedback = pd.read_csv('../data/course_info_with_survey_scores/course_info_with_survey_tf_norm.csv', header=0, index_col=0)\r\n",
    "    idf_relevance_feedback = pd.read_csv('../data/course_info_with_survey_scores/course_info_with_survey_idf.csv', header=0, index_col=0)\r\n",
    "    map_relevance_feedback = get_map(query_val, tf=tf_relevance_feedback, tf_norm=tf_norm_relevance_feedback, idf=idf_relevance_feedback)\r\n",
    "    print(\"Mean Average Precision on validation query (bm25 after relevance feedback training): \", map_relevance_feedback)\r\n",
    "\r\n",
    "    print(\"#\"*200)\r\n",
    "    print('Calculating Mean Average Precision for bm25 with pseudo relevance feedback')\r\n",
    "    map_pseudo_relevance_feedback = get_map_pseudo_relevance(query_val, tf=tf_relevance_feedback, tf_norm=tf_norm_relevance_feedback, idf=idf_relevance_feedback)\r\n",
    "    print(\"Mean Average Precision on validation query (bm25 with pseudo relevance feedback): \", map_pseudo_relevance_feedback)"
   ],
   "outputs": [],
   "metadata": {}
  }
 ],
 "metadata": {
  "orig_nbformat": 4,
  "language_info": {
   "name": "python",
   "version": "3.9.2",
   "mimetype": "text/x-python",
   "codemirror_mode": {
    "name": "ipython",
    "version": 3
   },
   "pygments_lexer": "ipython3",
   "nbconvert_exporter": "python",
   "file_extension": ".py"
  },
  "kernelspec": {
   "name": "python3",
   "display_name": "Python 3.9.2 64-bit"
  },
  "interpreter": {
   "hash": "2647ea34e536f865ab67ff9ddee7fd78773d956cec0cab53c79b32cd10da5d83"
  }
 },
 "nbformat": 4,
 "nbformat_minor": 2
}